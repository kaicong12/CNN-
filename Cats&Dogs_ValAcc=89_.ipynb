{
  "nbformat": 4,
  "nbformat_minor": 0,
  "metadata": {
    "colab": {
      "name": "Cats&Dogs_ValAcc=89%.ipynb",
      "provenance": [],
      "include_colab_link": true
    },
    "kernelspec": {
      "name": "python3",
      "display_name": "Python 3"
    },
    "accelerator": "GPU"
  },
  "cells": [
    {
      "cell_type": "markdown",
      "metadata": {
        "id": "view-in-github",
        "colab_type": "text"
      },
      "source": [
        "<a href=\"https://colab.research.google.com/github/kaicong12/CNN-/blob/main/Cats%26Dogs_ValAcc%3D89_.ipynb\" target=\"_parent\"><img src=\"https://colab.research.google.com/assets/colab-badge.svg\" alt=\"Open In Colab\"/></a>"
      ]
    },
    {
      "cell_type": "code",
      "metadata": {
        "id": "Ja1EVkF-b84I",
        "colab": {
          "base_uri": "https://localhost:8080/"
        },
        "outputId": "2317169c-5cc7-49f0-c893-a823f6468cc0"
      },
      "source": [
        "from google.colab import drive\r\n",
        "drive.mount('/content/drive')"
      ],
      "execution_count": null,
      "outputs": [
        {
          "output_type": "stream",
          "text": [
            "Mounted at /content/drive\n"
          ],
          "name": "stdout"
        }
      ]
    },
    {
      "cell_type": "code",
      "metadata": {
        "id": "mEMjAhity9S0"
      },
      "source": [
        "!unzip \"/content/drive/MyDrive/archive (4).zip\""
      ],
      "execution_count": null,
      "outputs": []
    },
    {
      "cell_type": "code",
      "metadata": {
        "id": "MDmxLu4ucchA"
      },
      "source": [
        "import keras\r\n",
        "import os\r\n",
        "from keras.layers import Dense, Conv2D, Flatten, MaxPooling2D, Dropout\r\n",
        "from keras.models import Sequential\r\n",
        "from keras.layers.normalization import BatchNormalization\r\n",
        "from keras.preprocessing.image import ImageDataGenerator\r\n",
        "import numpy as np\r\n",
        "import cv2\r\n",
        "from keras.callbacks import ReduceLROnPlateau"
      ],
      "execution_count": null,
      "outputs": []
    },
    {
      "cell_type": "code",
      "metadata": {
        "id": "bxDSLlMBdNAT"
      },
      "source": [
        "train_dataset = []\r\n",
        "classes = ['cats', 'dogs']\r\n",
        "imgsize = 50\r\n",
        "for cls_id, cls in enumerate(classes):\r\n",
        "  path = '/content/dataset/training_set'\r\n",
        "  path = os.path.join(path, cls)\r\n",
        "  for img in os.listdir(path):\r\n",
        "    img_data = cv2.imread(os.path.join(path, img))\r\n",
        "    img_data = cv2.resize(img_data, (imgsize,imgsize))\r\n",
        "    train_dataset.append([img_data, cls_id])\r\n"
      ],
      "execution_count": null,
      "outputs": []
    },
    {
      "cell_type": "code",
      "metadata": {
        "id": "IUrubLGpfQIn"
      },
      "source": [
        "datagen = ImageDataGenerator(\r\n",
        "                                    rotation_range=45,\r\n",
        "                                    shear_range=10,\r\n",
        "                                    zoom_range=[1,1.3],\r\n",
        "                                    horizontal_flip=True,\r\n",
        "                                    vertical_flip=True,\r\n",
        ")"
      ],
      "execution_count": null,
      "outputs": []
    },
    {
      "cell_type": "code",
      "metadata": {
        "id": "oii8O-FLgJNp"
      },
      "source": [
        "aug_data = []\r\n",
        "for obj in train_dataset:\r\n",
        "  obj[0] = obj[0].reshape((1,imgsize,imgsize,3))\r\n",
        "  i = 1\r\n",
        "  for d in datagen.flow(obj[0], batch_size=1):\r\n",
        "    aug_data.append([d[0], obj[1]])\r\n",
        "    i = i + 1\r\n",
        "    if i == 15:\r\n",
        "      break"
      ],
      "execution_count": null,
      "outputs": []
    },
    {
      "cell_type": "code",
      "metadata": {
        "id": "HDZaHgOJfv6D"
      },
      "source": [
        "import random\r\n",
        "random.shuffle(aug_data)"
      ],
      "execution_count": null,
      "outputs": []
    },
    {
      "cell_type": "code",
      "metadata": {
        "id": "LkYrXfhsiJby"
      },
      "source": [
        "x, y = [], []\r\n",
        "for pix, cls in aug_data:\r\n",
        "  x.append(pix)\r\n",
        "  y.append(cls)\r\n",
        "\r\n",
        "x = np.array(x)\r\n",
        "x = x.astype('float32') / 255.0\r\n",
        "y = np.array(y, dtype='uint8')"
      ],
      "execution_count": null,
      "outputs": []
    },
    {
      "cell_type": "code",
      "metadata": {
        "colab": {
          "base_uri": "https://localhost:8080/"
        },
        "id": "fJEuAjbksWEx",
        "outputId": "5e5f8abd-223d-472d-f07d-142d486f1531"
      },
      "source": [
        "x.shape"
      ],
      "execution_count": null,
      "outputs": [
        {
          "output_type": "execute_result",
          "data": {
            "text/plain": [
              "(112000, 50, 50, 3)"
            ]
          },
          "metadata": {
            "tags": []
          },
          "execution_count": 14
        }
      ]
    },
    {
      "cell_type": "code",
      "metadata": {
        "id": "5_XFxgugft88"
      },
      "source": [
        "from sklearn.model_selection import train_test_split\r\n",
        "xtrain, xtest, ytrain, ytest = train_test_split(x, y, test_size=0.2)"
      ],
      "execution_count": null,
      "outputs": []
    },
    {
      "cell_type": "code",
      "metadata": {
        "id": "Zdr-vJNSgmgE"
      },
      "source": [
        "model = Sequential()\r\n",
        "model.add(Conv2D(64*2, 3, activation='relu', input_shape=(imgsize,imgsize,3)))\r\n",
        "model.add(BatchNormalization())\r\n",
        "model.add(MaxPooling2D())\r\n",
        "\r\n",
        "model.add(Conv2D(64, 3, activation='relu'))\r\n",
        "model.add(BatchNormalization())\r\n",
        "model.add(MaxPooling2D())\r\n",
        "\r\n",
        "model.add(Flatten())\r\n",
        "model.add(Dense(64*2*2, activation='relu'))\r\n",
        "model.add(BatchNormalization())\r\n",
        "\r\n",
        "model.add(Dense(64*2, activation='relu'))\r\n",
        "model.add(BatchNormalization())\r\n",
        "\r\n",
        "model.add(Dense(2, activation='softmax'))\r\n",
        "model.compile(optimizer='adam', loss='sparse_categorical_crossentropy', metrics=['accuracy'])\r\n",
        "\r\n",
        "lr_reduction = ReduceLROnPlateau(patience=3, verbose=1, factor=0.25, min_lr=0.000003)"
      ],
      "execution_count": null,
      "outputs": []
    },
    {
      "cell_type": "code",
      "metadata": {
        "colab": {
          "base_uri": "https://localhost:8080/"
        },
        "id": "q5O5nDE42d1Z",
        "outputId": "f23e39ed-3f75-4d00-d08e-96d8840cbacb"
      },
      "source": [
        "model.fit(xtrain,ytrain,epochs=15,batch_size=64,validation_data=(xtest,ytest), callbacks=[lr_reduction])"
      ],
      "execution_count": null,
      "outputs": [
        {
          "output_type": "stream",
          "text": [
            "Epoch 1/15\n",
            "1400/1400 [==============================] - 29s 15ms/step - loss: 0.6177 - accuracy: 0.6710 - val_loss: 0.5762 - val_accuracy: 0.6943\n",
            "Epoch 2/15\n",
            "1400/1400 [==============================] - 20s 14ms/step - loss: 0.4569 - accuracy: 0.7819 - val_loss: 0.4869 - val_accuracy: 0.7705\n",
            "Epoch 3/15\n",
            "1400/1400 [==============================] - 20s 14ms/step - loss: 0.3568 - accuracy: 0.8426 - val_loss: 0.4391 - val_accuracy: 0.7987\n",
            "Epoch 4/15\n",
            "1400/1400 [==============================] - 20s 14ms/step - loss: 0.2425 - accuracy: 0.9000 - val_loss: 0.4767 - val_accuracy: 0.8085\n",
            "\n",
            "Epoch 00004: ReduceLROnPlateau reducing learning rate to 0.0002500000118743628.\n",
            "Epoch 5/15\n",
            "1400/1400 [==============================] - 20s 14ms/step - loss: 0.1135 - accuracy: 0.9611 - val_loss: 0.4581 - val_accuracy: 0.8407\n",
            "\n",
            "Epoch 00005: ReduceLROnPlateau reducing learning rate to 6.25000029685907e-05.\n",
            "Epoch 6/15\n",
            "1400/1400 [==============================] - 20s 14ms/step - loss: 0.0452 - accuracy: 0.9876 - val_loss: 0.3492 - val_accuracy: 0.8780\n",
            "Epoch 7/15\n",
            "1400/1400 [==============================] - 20s 14ms/step - loss: 0.0329 - accuracy: 0.9913 - val_loss: 0.3636 - val_accuracy: 0.8818\n",
            "\n",
            "Epoch 00007: ReduceLROnPlateau reducing learning rate to 1.5625000742147677e-05.\n",
            "Epoch 8/15\n",
            "1400/1400 [==============================] - 20s 14ms/step - loss: 0.0239 - accuracy: 0.9940 - val_loss: 0.3653 - val_accuracy: 0.8825\n",
            "\n",
            "Epoch 00008: ReduceLROnPlateau reducing learning rate to 3.906250185536919e-06.\n",
            "Epoch 9/15\n",
            "1400/1400 [==============================] - 20s 14ms/step - loss: 0.0222 - accuracy: 0.9945 - val_loss: 0.3661 - val_accuracy: 0.8830\n",
            "\n",
            "Epoch 00009: ReduceLROnPlateau reducing learning rate to 3e-06.\n",
            "Epoch 10/15\n",
            "1400/1400 [==============================] - 20s 14ms/step - loss: 0.0209 - accuracy: 0.9956 - val_loss: 0.3677 - val_accuracy: 0.8828\n",
            "\n",
            "Epoch 00010: ReduceLROnPlateau reducing learning rate to 3e-06.\n",
            "Epoch 11/15\n",
            "1400/1400 [==============================] - 20s 14ms/step - loss: 0.0222 - accuracy: 0.9947 - val_loss: 0.3690 - val_accuracy: 0.8834\n",
            "\n",
            "Epoch 00011: ReduceLROnPlateau reducing learning rate to 3e-06.\n",
            "Epoch 12/15\n",
            "1400/1400 [==============================] - 20s 14ms/step - loss: 0.0213 - accuracy: 0.9949 - val_loss: 0.3696 - val_accuracy: 0.8831\n",
            "\n",
            "Epoch 00012: ReduceLROnPlateau reducing learning rate to 3e-06.\n",
            "Epoch 13/15\n",
            "1400/1400 [==============================] - 20s 14ms/step - loss: 0.0207 - accuracy: 0.9954 - val_loss: 0.3714 - val_accuracy: 0.8829\n",
            "\n",
            "Epoch 00013: ReduceLROnPlateau reducing learning rate to 3e-06.\n",
            "Epoch 14/15\n",
            "1400/1400 [==============================] - 20s 15ms/step - loss: 0.0193 - accuracy: 0.9960 - val_loss: 0.3743 - val_accuracy: 0.8827\n",
            "\n",
            "Epoch 00014: ReduceLROnPlateau reducing learning rate to 3e-06.\n",
            "Epoch 15/15\n",
            "1400/1400 [==============================] - 20s 14ms/step - loss: 0.0196 - accuracy: 0.9954 - val_loss: 0.3748 - val_accuracy: 0.8833\n",
            "\n",
            "Epoch 00015: ReduceLROnPlateau reducing learning rate to 3e-06.\n"
          ],
          "name": "stdout"
        },
        {
          "output_type": "execute_result",
          "data": {
            "text/plain": [
              "<tensorflow.python.keras.callbacks.History at 0x7f29bf71f908>"
            ]
          },
          "metadata": {
            "tags": []
          },
          "execution_count": 21
        }
      ]
    },
    {
      "cell_type": "code",
      "metadata": {
        "id": "H2fc7Zyfhou5",
        "colab": {
          "base_uri": "https://localhost:8080/"
        },
        "outputId": "9acc1929-00d7-411c-a925-8544c88321eb"
      },
      "source": [
        "score = model.evaluate(xtest,ytest)"
      ],
      "execution_count": null,
      "outputs": [
        {
          "output_type": "stream",
          "text": [
            "700/700 [==============================] - 3s 4ms/step - loss: 0.3748 - accuracy: 0.8833\n"
          ],
          "name": "stdout"
        }
      ]
    },
    {
      "cell_type": "code",
      "metadata": {
        "id": "aIrKFqUyjAxF"
      },
      "source": [
        "test = cv2.imread('/content/dog vs cat/dataset/test_set/dogs/dog.4001.jpg')\r\n",
        "test = cv2.resize(test, (imgsize, imgsize))\r\n",
        "test = test.reshape((1,imgsize,imgsize,3))\r\n",
        "predict = model.predict(test)"
      ],
      "execution_count": null,
      "outputs": []
    },
    {
      "cell_type": "code",
      "metadata": {
        "colab": {
          "base_uri": "https://localhost:8080/",
          "height": 35
        },
        "id": "-PyuN9_U5CY5",
        "outputId": "a1ac4f1f-7bcf-40a5-a5f5-6957af36b671"
      },
      "source": [
        "classes[np.argmax(predict)]"
      ],
      "execution_count": null,
      "outputs": [
        {
          "output_type": "execute_result",
          "data": {
            "application/vnd.google.colaboratory.intrinsic+json": {
              "type": "string"
            },
            "text/plain": [
              "'cats'"
            ]
          },
          "metadata": {
            "tags": []
          },
          "execution_count": 29
        }
      ]
    },
    {
      "cell_type": "code",
      "metadata": {
        "id": "6CI40YoH5lVJ"
      },
      "source": [
        ""
      ],
      "execution_count": null,
      "outputs": []
    }
  ]
}