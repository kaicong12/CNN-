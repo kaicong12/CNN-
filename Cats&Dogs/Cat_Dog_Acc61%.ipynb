{
  "nbformat": 4,
  "nbformat_minor": 0,
  "metadata": {
    "colab": {
      "name": "Cat/Dog_GoogleColab.ipynb",
      "provenance": []
    },
    "kernelspec": {
      "name": "python3",
      "display_name": "Python 3"
    },
    "accelerator": "GPU"
  },
  "cells": [
    {
      "cell_type": "code",
      "metadata": {
        "colab": {
          "base_uri": "https://localhost:8080/"
        },
        "id": "L2UzbuoOCjZD",
        "outputId": "59572073-3dbe-4954-e54d-8771070c31af"
      },
      "source": [
        "!pip install keras-tuner"
      ],
      "execution_count": 3,
      "outputs": [
        {
          "output_type": "stream",
          "text": [
            "Collecting keras-tuner\n",
            "\u001b[?25l  Downloading https://files.pythonhosted.org/packages/20/ec/1ef246787174b1e2bb591c95f29d3c1310070cad877824f907faba3dade9/keras-tuner-1.0.2.tar.gz (62kB)\n",
            "\r\u001b[K     |█████▏                          | 10kB 24.6MB/s eta 0:00:01\r\u001b[K     |██████████▍                     | 20kB 16.6MB/s eta 0:00:01\r\u001b[K     |███████████████▋                | 30kB 10.4MB/s eta 0:00:01\r\u001b[K     |████████████████████▉           | 40kB 8.8MB/s eta 0:00:01\r\u001b[K     |██████████████████████████      | 51kB 7.8MB/s eta 0:00:01\r\u001b[K     |███████████████████████████████▎| 61kB 8.2MB/s eta 0:00:01\r\u001b[K     |████████████████████████████████| 71kB 5.6MB/s \n",
            "\u001b[?25hRequirement already satisfied: packaging in /usr/local/lib/python3.6/dist-packages (from keras-tuner) (20.9)\n",
            "Requirement already satisfied: future in /usr/local/lib/python3.6/dist-packages (from keras-tuner) (0.16.0)\n",
            "Requirement already satisfied: numpy in /usr/local/lib/python3.6/dist-packages (from keras-tuner) (1.19.5)\n",
            "Requirement already satisfied: tabulate in /usr/local/lib/python3.6/dist-packages (from keras-tuner) (0.8.7)\n",
            "Collecting terminaltables\n",
            "  Downloading https://files.pythonhosted.org/packages/9b/c4/4a21174f32f8a7e1104798c445dacdc1d4df86f2f26722767034e4de4bff/terminaltables-3.1.0.tar.gz\n",
            "Collecting colorama\n",
            "  Downloading https://files.pythonhosted.org/packages/44/98/5b86278fbbf250d239ae0ecb724f8572af1c91f4a11edf4d36a206189440/colorama-0.4.4-py2.py3-none-any.whl\n",
            "Requirement already satisfied: tqdm in /usr/local/lib/python3.6/dist-packages (from keras-tuner) (4.41.1)\n",
            "Requirement already satisfied: requests in /usr/local/lib/python3.6/dist-packages (from keras-tuner) (2.23.0)\n",
            "Requirement already satisfied: scipy in /usr/local/lib/python3.6/dist-packages (from keras-tuner) (1.4.1)\n",
            "Requirement already satisfied: scikit-learn in /usr/local/lib/python3.6/dist-packages (from keras-tuner) (0.22.2.post1)\n",
            "Requirement already satisfied: pyparsing>=2.0.2 in /usr/local/lib/python3.6/dist-packages (from packaging->keras-tuner) (2.4.7)\n",
            "Requirement already satisfied: idna<3,>=2.5 in /usr/local/lib/python3.6/dist-packages (from requests->keras-tuner) (2.10)\n",
            "Requirement already satisfied: certifi>=2017.4.17 in /usr/local/lib/python3.6/dist-packages (from requests->keras-tuner) (2020.12.5)\n",
            "Requirement already satisfied: urllib3!=1.25.0,!=1.25.1,<1.26,>=1.21.1 in /usr/local/lib/python3.6/dist-packages (from requests->keras-tuner) (1.24.3)\n",
            "Requirement already satisfied: chardet<4,>=3.0.2 in /usr/local/lib/python3.6/dist-packages (from requests->keras-tuner) (3.0.4)\n",
            "Requirement already satisfied: joblib>=0.11 in /usr/local/lib/python3.6/dist-packages (from scikit-learn->keras-tuner) (1.0.0)\n",
            "Building wheels for collected packages: keras-tuner, terminaltables\n",
            "  Building wheel for keras-tuner (setup.py) ... \u001b[?25l\u001b[?25hdone\n",
            "  Created wheel for keras-tuner: filename=keras_tuner-1.0.2-cp36-none-any.whl size=78939 sha256=bdb48ab0ecca0e6753b3d1dd8f385eeedeee290fa649a91f094918d0428a12ce\n",
            "  Stored in directory: /root/.cache/pip/wheels/bb/a1/8a/7c3de0efb3707a1701b36ebbfdbc4e67aedf6d4943a1f463d6\n",
            "  Building wheel for terminaltables (setup.py) ... \u001b[?25l\u001b[?25hdone\n",
            "  Created wheel for terminaltables: filename=terminaltables-3.1.0-cp36-none-any.whl size=15358 sha256=7d55c831c8d26fd5fe6cf0bcd58a45b796280db5abef2edeca16df4f288144fb\n",
            "  Stored in directory: /root/.cache/pip/wheels/30/6b/50/6c75775b681fb36cdfac7f19799888ef9d8813aff9e379663e\n",
            "Successfully built keras-tuner terminaltables\n",
            "Installing collected packages: terminaltables, colorama, keras-tuner\n",
            "Successfully installed colorama-0.4.4 keras-tuner-1.0.2 terminaltables-3.1.0\n"
          ],
          "name": "stdout"
        }
      ]
    },
    {
      "cell_type": "code",
      "metadata": {
        "id": "q0k8LYfjPw-E"
      },
      "source": [
        "import tensorflow as tf\r\n",
        "import keras\r\n",
        "from keras.layers import Conv2D, Dense, Flatten, MaxPooling2D\r\n",
        "from keras.models import Sequential\r\n",
        "import numpy as np \r\n",
        "import cv2\r\n",
        "import os\r\n",
        "import matplotlib.pyplot as plt\r\n",
        "from kerastuner.tuners import RandomSearch\r\n",
        "from kerastuner.engine.hyperparameters import HyperParameters"
      ],
      "execution_count": 4,
      "outputs": []
    },
    {
      "cell_type": "code",
      "metadata": {
        "colab": {
          "base_uri": "https://localhost:8080/"
        },
        "id": "hnK2j_RWQFGA",
        "outputId": "80f6d2c9-3311-496c-a1ee-ba12ec7d0367"
      },
      "source": [
        "#upload zip file onto google drive and unzip the file here to read local data\r\n",
        "from google.colab import drive\r\n",
        "drive.mount('/content/drive')"
      ],
      "execution_count": 5,
      "outputs": [
        {
          "output_type": "stream",
          "text": [
            "Mounted at /content/drive\n"
          ],
          "name": "stdout"
        }
      ]
    },
    {
      "cell_type": "code",
      "metadata": {
        "id": "En1Vb_owQKwH"
      },
      "source": [
        "!unzip -uq \"/content/drive/MyDrive/CatsDog_GoogleColab\" -d \"/content/drive/MyDrive/Colab Notebooks/CatsDog_GoogleColab\""
      ],
      "execution_count": 8,
      "outputs": []
    },
    {
      "cell_type": "code",
      "metadata": {
        "id": "txhGLJkUQolH"
      },
      "source": [
        "path = \"/content/drive/MyDrive/Colab Notebooks/CatsDog_GoogleColab/dataset/training_set\"\r\n",
        "categories = ['cats', 'dogs']\r\n",
        "IMG_SIZE = 100"
      ],
      "execution_count": 6,
      "outputs": []
    },
    {
      "cell_type": "code",
      "metadata": {
        "id": "YW9BxTxIR7VE"
      },
      "source": [
        "training = []\r\n",
        "\r\n",
        "for category in categories:\r\n",
        "    folder = os.path.join(path,category)\r\n",
        "    label = categories.index(category)\r\n",
        "    for img in os.listdir(folder):\r\n",
        "        img_path = os.path.join(folder,img)\r\n",
        "        img_array = cv2.imread(img_path)\r\n",
        "        img_array = cv2.resize(img_array,(IMG_SIZE,IMG_SIZE))\r\n",
        "        training.append([img_array,label])\r\n"
      ],
      "execution_count": 9,
      "outputs": []
    },
    {
      "cell_type": "code",
      "metadata": {
        "id": "vmEpd-_gSDV0"
      },
      "source": [
        "import random\r\n",
        "random.shuffle(training)"
      ],
      "execution_count": 11,
      "outputs": []
    },
    {
      "cell_type": "code",
      "metadata": {
        "id": "LhDqhGylY0U5"
      },
      "source": [
        "xtrain = [feature for feature, label in training] \r\n",
        "ytrain = [label for feature,label in training] "
      ],
      "execution_count": 12,
      "outputs": []
    },
    {
      "cell_type": "code",
      "metadata": {
        "id": "2dLF5TNhY32R"
      },
      "source": [
        "xtrain = np.array(xtrain)\r\n",
        "ytrain = np.array(ytrain)\r\n",
        "xtrain = xtrain/255 "
      ],
      "execution_count": 13,
      "outputs": []
    },
    {
      "cell_type": "code",
      "metadata": {
        "id": "3YD9EuMCftp9"
      },
      "source": [
        "test = [] \r\n",
        "path = \"/content/drive/MyDrive/Colab Notebooks/CatsDog_GoogleColab/dataset/test_set\"\r\n",
        "\r\n",
        "\r\n",
        "for category in categories:\r\n",
        "    folder = os.path.join(path,category)\r\n",
        "    label = categories.index(category)\r\n",
        "    for img in os.listdir(folder):\r\n",
        "        img_path = os.path.join(folder,img)\r\n",
        "        img_array = cv2.imread(img_path)\r\n",
        "        img_array = cv2.resize(img_array,(IMG_SIZE,IMG_SIZE))\r\n",
        "        test.append([img_array,label])"
      ],
      "execution_count": 10,
      "outputs": []
    },
    {
      "cell_type": "code",
      "metadata": {
        "id": "qYHws459Qx-H"
      },
      "source": [
        "xtest = [feature for feature, label in test] \r\n",
        "ytest = [label for feature,label in test] "
      ],
      "execution_count": 15,
      "outputs": []
    },
    {
      "cell_type": "code",
      "metadata": {
        "id": "-_fTL9DVYFSC"
      },
      "source": [
        "xtest = np.array(xtest)\r\n",
        "ytest = np.array(ytest)"
      ],
      "execution_count": 29,
      "outputs": []
    },
    {
      "cell_type": "code",
      "metadata": {
        "id": "Mhx8gASsY5mZ"
      },
      "source": [
        "def build_model(hp):\r\n",
        "    model = Sequential()\r\n",
        "    model.add(Conv2D(hp.Int(f'input-unit',32,256,32), 3, input_shape=xtrain.shape[1:], activation='relu'))\r\n",
        "    model.add(MaxPooling2D(2,2))\r\n",
        "\r\n",
        "    for n in range(hp.Int('layer', 1, 4)):\r\n",
        "        model.add(Conv2D(32, 3, activation='relu'))\r\n",
        "    \r\n",
        "    model.add(Flatten())\r\n",
        "    model.add(Dense(2, activation='sigmoid'))\r\n",
        "\r\n",
        "    model.compile(optimizer='adam',\r\n",
        "                    loss = 'sparse_categorical_crossentropy',\r\n",
        "                    metrics = ['accuracy'])\r\n",
        "\r\n",
        "    return model"
      ],
      "execution_count": 16,
      "outputs": []
    },
    {
      "cell_type": "code",
      "metadata": {
        "colab": {
          "base_uri": "https://localhost:8080/"
        },
        "id": "k29Ljn_fY8FQ",
        "outputId": "a5090052-236c-4550-fe15-298683054ff0"
      },
      "source": [
        "tuner = RandomSearch(\r\n",
        "    build_model,\r\n",
        "    objective='accuracy',\r\n",
        "    max_trials = 10,\r\n",
        "    executions_per_trial = 1,\r\n",
        "    directory='my_dir',\r\n",
        "    project_name='cat&dog'\r\n",
        ")\r\n",
        "\r\n",
        "tuner.search(xtrain, ytrain, epochs = 5, batch_size=64, validation_split=0.2)"
      ],
      "execution_count": 23,
      "outputs": [
        {
          "output_type": "stream",
          "text": [
            "Trial 10 Complete [00h 00m 34s]\n",
            "accuracy: 0.8547374606132507\n",
            "\n",
            "Best accuracy So Far: 0.9063926935195923\n",
            "Total elapsed time: 00h 11m 20s\n",
            "INFO:tensorflow:Oracle triggered exit\n"
          ],
          "name": "stdout"
        }
      ]
    },
    {
      "cell_type": "code",
      "metadata": {
        "colab": {
          "base_uri": "https://localhost:8080/"
        },
        "id": "DssrbcRE6LHn",
        "outputId": "6d2cd1ee-c1a1-4b90-9185-490d8a2486dc"
      },
      "source": [
        "tuner.results_summary()"
      ],
      "execution_count": 24,
      "outputs": [
        {
          "output_type": "stream",
          "text": [
            "Results summary\n",
            "Results in my_dir/cat&dog\n",
            "Showing 10 best trials\n",
            "Objective(name='accuracy', direction='max')\n",
            "Trial summary\n",
            "Hyperparameters:\n",
            "input-unit: 64\n",
            "layer: 2\n",
            "Score: 0.9063926935195923\n",
            "Trial summary\n",
            "Hyperparameters:\n",
            "input-unit: 96\n",
            "layer: 2\n",
            "Score: 0.8905060887336731\n",
            "Trial summary\n",
            "Hyperparameters:\n",
            "input-unit: 160\n",
            "layer: 2\n",
            "Score: 0.8894596695899963\n",
            "Trial summary\n",
            "Hyperparameters:\n",
            "input-unit: 96\n",
            "layer: 1\n",
            "Score: 0.8587328791618347\n",
            "Trial summary\n",
            "Hyperparameters:\n",
            "input-unit: 32\n",
            "layer: 3\n",
            "Score: 0.8547374606132507\n",
            "Trial summary\n",
            "Hyperparameters:\n",
            "input-unit: 128\n",
            "layer: 3\n",
            "Score: 0.8291476368904114\n",
            "Trial summary\n",
            "Hyperparameters:\n",
            "input-unit: 96\n",
            "layer: 3\n",
            "Score: 0.823630154132843\n",
            "Trial summary\n",
            "Hyperparameters:\n",
            "input-unit: 224\n",
            "layer: 3\n",
            "Score: 0.8074581623077393\n",
            "Trial summary\n",
            "Hyperparameters:\n",
            "input-unit: 224\n",
            "layer: 2\n",
            "Score: 0.7512366771697998\n",
            "Trial summary\n",
            "Hyperparameters:\n",
            "input-unit: 192\n",
            "layer: 4\n",
            "Score: 0.6256659030914307\n"
          ],
          "name": "stdout"
        }
      ]
    },
    {
      "cell_type": "code",
      "metadata": {
        "colab": {
          "base_uri": "https://localhost:8080/"
        },
        "id": "IbtISJ6KXsOL",
        "outputId": "0eff9216-5311-4e0c-a4f0-24c4f0b588dc"
      },
      "source": [
        "best_model = tuner.get_best_models(num_models=1)[0]\r\n",
        "best_model.evaluate(xtest, ytest)\r\n"
      ],
      "execution_count": 30,
      "outputs": [
        {
          "output_type": "stream",
          "text": [
            "63/63 [==============================] - 1s 10ms/step - loss: 175.7882 - accuracy: 0.6841\n"
          ],
          "name": "stdout"
        },
        {
          "output_type": "execute_result",
          "data": {
            "text/plain": [
              "[159.7865753173828, 0.6955000162124634]"
            ]
          },
          "metadata": {
            "tags": []
          },
          "execution_count": 30
        }
      ]
    },
    {
      "cell_type": "code",
      "metadata": {
        "id": "MRxa7h7LX4cz"
      },
      "source": [
        ""
      ],
      "execution_count": null,
      "outputs": []
    }
  ]
}